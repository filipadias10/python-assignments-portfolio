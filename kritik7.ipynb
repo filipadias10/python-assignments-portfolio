{
 "cells": [
  {
   "cell_type": "code",
   "execution_count": null,
   "id": "7309e174",
   "metadata": {},
   "outputs": [],
   "source": []
  },
  {
   "cell_type": "code",
   "execution_count": null,
   "id": "79c7c248",
   "metadata": {
    "scrolled": true
   },
   "outputs": [],
   "source": []
  },
  {
   "cell_type": "code",
   "execution_count": 56,
   "id": "488bc584",
   "metadata": {},
   "outputs": [
    {
     "name": "stdout",
     "output_type": "stream",
     "text": [
      "Standard deviation: 23.205425925847603\n",
      "t0 value: 1.0059687661824432\n",
      "t* value: 1.9841984198419842\n"
     ]
    },
    {
     "data": {
      "text/plain": [
       "False"
      ]
     },
     "execution_count": 56,
     "metadata": {},
     "output_type": "execute_result"
    }
   ],
   "source": [
    "import numpy as np\n",
    "from scipy.special import gamma\n",
    "\n",
    "def t_distribution_pdf(x, nu):\n",
    "    coeff = gamma((nu + 1) / 2) / (np.sqrt(nu * np.pi) * gamma(nu / 2))\n",
    "    density = coeff * (1 + x**2 / nu) ** (-0.5 * (nu + 1))\n",
    "    return density\n",
    "#this code was given by greg\n",
    "\n",
    "#a function to calculate standard deviation for the number of test scores given in the list\n",
    "def std_dev(values):\n",
    "    listofa=[]\n",
    "#create an empty list\n",
    "    for i in range(len(values)):\n",
    "        sum_total=sum(values)\n",
    "        count=len(values)\n",
    "        average=sum_total/count \n",
    "#calculate average by summing all values, and dividing by the number of values\n",
    "        calculation=(i-average)**2\n",
    "        listofa.append(sum_total)\n",
    "#add the resulting standard deviation values into the list\n",
    "    result=np.sqrt((1/count)*(calculation))\n",
    "    return result\n",
    "\n",
    "tests = [92.64, 79.00, 84.79, 97.41, 93.68, 65.23, 84.50, 73.49, 73.97, 79.11]\n",
    "print(\"Standard deviation:\", std_dev(tests))\n",
    "#a list containing all the test values\n",
    "#make all these values run through the function above for standard deviation \n",
    "\n",
    "def t0_value(data):\n",
    "    numerator=sum(data)\n",
    "    denominator=len(data)\n",
    "    average = numerator/denominator\n",
    "#calculate average by summing all values, and dividing by the number of values\n",
    "    t0_part1=average - 75\n",
    "    t0_part2 = std_dev(data)/np.sqrt(denominator)\n",
    "    t0=t0_part1/t0_part2\n",
    "#equation given for t0\n",
    "#separated so it is easier to write and read \n",
    "    return t0\n",
    "\n",
    "print(\"t0 value:\", t0_value(tests))\n",
    "#print the test values through the function\n",
    "\n",
    "def find_t_star(prob, nu, x_start=0, x_end=20, num_points=10000):\n",
    "    x=np.linspace(x_start, x_end, num_points)\n",
    "    y= t_distribution_pdf(x, nu)\n",
    "    cdf=np.cumsum(y)*(x[1]-x[0])   \n",
    "    target_half_prob=prob/2\n",
    "    index= np.where(cdf >= target_half_prob)[0][0]\n",
    "    return x[index]\n",
    "#this code was given by Greg\n",
    "\n",
    "print(\"t* value:\", find_t_star(0.95,75))\n",
    "\n",
    "def check_function(a, b):\n",
    "    return -a <= b <= a\n",
    "#this checks to see whether t0 is between -t* and t*\n",
    "    \n",
    "check_function(t0_value(tests), find_t_star(0.95, 75))\n"
   ]
  },
  {
   "cell_type": "code",
   "execution_count": null,
   "id": "2a6ba79e",
   "metadata": {},
   "outputs": [],
   "source": []
  },
  {
   "cell_type": "code",
   "execution_count": null,
   "id": "2f5c2c64",
   "metadata": {},
   "outputs": [],
   "source": []
  }
 ],
 "metadata": {
  "kernelspec": {
   "display_name": "Python 3 (ipykernel)",
   "language": "python",
   "name": "python3"
  },
  "language_info": {
   "codemirror_mode": {
    "name": "ipython",
    "version": 3
   },
   "file_extension": ".py",
   "mimetype": "text/x-python",
   "name": "python",
   "nbconvert_exporter": "python",
   "pygments_lexer": "ipython3",
   "version": "3.11.4"
  }
 },
 "nbformat": 4,
 "nbformat_minor": 5
}
