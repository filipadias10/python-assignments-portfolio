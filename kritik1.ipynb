{
 "cells": [
  {
   "cell_type": "code",
   "execution_count": null,
   "id": "6cc1e416-5787-43a6-9fef-b1c0e72c06e5",
   "metadata": {},
   "outputs": [],
   "source": [
    "def coding_question9x):\n",
    "    a=0\n",
    "    n=1\n",
    "    i=0\n",
    "    error_bound=100\n",
    "    if 0 <=x<=1:\n",
    "        while error_bound>= 0.001:\n",
    "            a+=((-1)**i)*x**(2*i+1)/(2*i+1)\n",
    "            error_bound=(x**(2*n+1))/(2*n+1)\n",
    "            n+=1\n",
    "            i+=1\n",
    "        variable=(a,n,error_bound)\n",
    "        print (variable)\n",
    "    else:\n",
    "        print (\"Error!\")\n",
    "\n",
    "coding_question(-1)\n",
    "codin\n",
    "        \n",
    "        "
   ]
  }
 ],
 "metadata": {
  "kernelspec": {
   "display_name": "Python 3 (ipykernel)",
   "language": "python",
   "name": "python3"
  },
  "language_info": {
   "codemirror_mode": {
    "name": "ipython",
    "version": 3
   },
   "file_extension": ".py",
   "mimetype": "text/x-python",
   "name": "python",
   "nbconvert_exporter": "python",
   "pygments_lexer": "ipython3",
   "version": "3.11.4"
  }
 },
 "nbformat": 4,
 "nbformat_minor": 5
}
