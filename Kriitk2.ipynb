{
 "cells": [
  {
   "cell_type": "code",
   "execution_count": 1,
   "id": "dfc64f41",
   "metadata": {},
   "outputs": [
    {
     "name": "stdout",
     "output_type": "stream",
     "text": [
      "Midpoint rule approximation of the integral of f(x) from 0 to 1: 0.3333\n"
     ]
    }
   ],
   "source": [
    "# Define the function to be integrated\n",
    "def f(x):\n",
    "    return x**2  # Example function x^2\n",
    "\n",
    "# Define the limits of integration\n",
    "a = 0\n",
    "b = 1\n",
    "\n",
    "# Number of subintervals\n",
    "n = 1000\n",
    "\n",
    "# Width of each subinterval\n",
    "h = (b - a) / n\n",
    "\n",
    "# Calculate the midpoint rule approximation\n",
    "integral_approx = 0\n",
    "for i in range(n):\n",
    "    xi = a + (i + 0.5) * h  # Midpoint of the i-th subinterval\n",
    "    integral_approx += f(xi)\n",
    "\n",
    "integral_approx *= h\n",
    "\n",
    "print(\"Midpoint rule approximation of the integral of f(x) from {} to {}: {:.4f}\".format(a, b, integral_approx))"
   ]
  },
  {
   "cell_type": "code",
   "execution_count": null,
   "id": "7c31ec9b",
   "metadata": {},
   "outputs": [],
   "source": []
  }
 ],
 "metadata": {
  "kernelspec": {
   "display_name": "Python 3 (ipykernel)",
   "language": "python",
   "name": "python3"
  },
  "language_info": {
   "codemirror_mode": {
    "name": "ipython",
    "version": 3
   },
   "file_extension": ".py",
   "mimetype": "text/x-python",
   "name": "python",
   "nbconvert_exporter": "python",
   "pygments_lexer": "ipython3",
   "version": "3.11.4"
  }
 },
 "nbformat": 4,
 "nbformat_minor": 5
}
