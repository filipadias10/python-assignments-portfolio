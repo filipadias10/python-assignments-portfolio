{
 "cells": [
  {
   "cell_type": "code",
   "execution_count": 2,
   "id": "65be1fd1",
   "metadata": {},
   "outputs": [
    {
     "name": "stdout",
     "output_type": "stream",
     "text": [
      "0.99999\n",
      "0.99999\n",
      "1.00001\n",
      "1.00001\n"
     ]
    }
   ],
   "source": [
    "def f(x):\n",
    "    return x**2\n",
    "\n",
    "c=1\n",
    "E=0.1\n",
    "\n",
    "n=100\n",
    "x1=c\n",
    "x2=c\n",
    "delx=10**(-8)\n",
    "d=0.00001\n",
    "def fPrime(x):\n",
    "    return (f(x+delx)-f(x-delx))/(2*delx)\n",
    "def L(x):\n",
    "    return f(c)+fPrime(c)*(x-c)\n",
    "\n",
    "for i in range(n):\n",
    "    x1-=d\n",
    "    if abs (f(x1)-L(x1))<=E:\n",
    "        print(x1)\n",
    "        break\n",
    "if abs (f(x1)-L(x1))<=E:\n",
    "    print(x1)\n",
    "else: \n",
    "    print(\"No such x1 can be found!\")\n",
    "    \n",
    "for i in range (n):\n",
    "    x2+=d\n",
    "    if abs (f(x2)-L(x2))<+E:\n",
    "        print(x2)\n",
    "        break\n",
    "if abs (f(x2)-L(x2))<=E:\n",
    "    print(x2)\n",
    "else:\n",
    "    print(\"No such x2 can be found!\")"
   ]
  },
  {
   "cell_type": "code",
   "execution_count": null,
   "id": "435917a6",
   "metadata": {},
   "outputs": [],
   "source": []
  }
 ],
 "metadata": {
  "kernelspec": {
   "display_name": "Python 3 (ipykernel)",
   "language": "python",
   "name": "python3"
  },
  "language_info": {
   "codemirror_mode": {
    "name": "ipython",
    "version": 3
   },
   "file_extension": ".py",
   "mimetype": "text/x-python",
   "name": "python",
   "nbconvert_exporter": "python",
   "pygments_lexer": "ipython3",
   "version": "3.11.4"
  }
 },
 "nbformat": 4,
 "nbformat_minor": 5
}
